{
 "cells": [
  {
   "cell_type": "code",
   "execution_count": 1,
   "metadata": {},
   "outputs": [
    {
     "name": "stderr",
     "output_type": "stream",
     "text": [
      "Matplotlib is building the font cache; this may take a moment.\n"
     ]
    }
   ],
   "source": [
    "import tensorflow as tf # importa la libreria de tensorflow\n",
    "import numpy as np # importa la libreria de numpy\n",
    "import matplotlib.pyplot as plt # importa la libreria de matplotlib"
   ]
  },
  {
   "cell_type": "code",
   "execution_count": 2,
   "metadata": {},
   "outputs": [],
   "source": [
    "celsius = np.array([-40, -10, 0, 8, 15, 22, 38], dtype=float)   # crea un array de numpy con los valores de celsius\n",
    "fahrenheit = np.array([-40, 14, 32, 46, 59, 72, 100], dtype=float) # crea un array de numpy con los valores de fahrenheit"
   ]
  },
  {
   "cell_type": "code",
   "execution_count": 3,
   "metadata": {},
   "outputs": [
    {
     "name": "stderr",
     "output_type": "stream",
     "text": [
      "C:\\Users\\malva\\AppData\\Local\\Packages\\PythonSoftwareFoundation.Python.3.12_qbz5n2kfra8p0\\LocalCache\\local-packages\\Python312\\site-packages\\keras\\src\\layers\\core\\dense.py:87: UserWarning: Do not pass an `input_shape`/`input_dim` argument to a layer. When using Sequential models, prefer using an `Input(shape)` object as the first layer in the model instead.\n",
      "  super().__init__(activity_regularizer=activity_regularizer, **kwargs)\n"
     ]
    }
   ],
   "source": [
    "capa = tf.keras.layers.Dense(units=1, input_shape=[1]) # crea una capa de una neurona con una entrada y una salida ejemplo y = mx + b\n",
    "modelo = tf.keras.Sequential([capa]) # crea un modelo con la capa anterior y la guarda en la variable modelo (sequential es una secuencia de capas)"
   ]
  },
  {
   "cell_type": "code",
   "execution_count": 4,
   "metadata": {},
   "outputs": [],
   "source": [
    "modelo.compile( # compila el modelo\n",
    "    optimizer=tf.keras.optimizers.Adam(0.1), # optimizador Adam con un learning rate de 0.1 es decir que el modelo se va a entrenar con un learning rate de 0.1\n",
    "    loss='mean_squared_error' # funcion de perdida mean_squared_error es decir el error cuadratico medio\n",
    ")"
   ]
  },
  {
   "cell_type": "code",
   "execution_count": 5,
   "metadata": {},
   "outputs": [
    {
     "name": "stdout",
     "output_type": "stream",
     "text": [
      "Comenzando entrenamiento...\n",
      "Modelo entrenado!\n"
     ]
    }
   ],
   "source": [
    "print(\"Comenzando entrenamiento...\") # imprime un mensaje\n",
    "historial = modelo.fit(celsius, fahrenheit, epochs=1000, verbose=False) # entrena el modelo con los valores de celsius y fahrenheit durante 500 epocas y verbose=False para que no imprima el progreso\n",
    "print(\"Modelo entrenado!\")# imprime un mensaje"
   ]
  },
  {
   "cell_type": "code",
   "execution_count": 6,
   "metadata": {},
   "outputs": [
    {
     "data": {
      "text/plain": [
       "[<matplotlib.lines.Line2D at 0x269da8455b0>]"
      ]
     },
     "execution_count": 6,
     "metadata": {},
     "output_type": "execute_result"
    },
    {
     "data": {
      "image/png": "[encoded data removed]",
      "text/plain": [
       "<Figure size 640x480 with 1 Axes>"
      ]
     },
     "metadata": {},
     "output_type": "display_data"
    }
   ],
   "source": [
    "# importa la libreria de matplotlib\n",
    "plt.xlabel(\"# Epoca\") # pone la etiqueta en el eje x\n",
    "plt.ylabel(\"Magnitud de pérdida\") # pone la etiqueta en el eje y\n",
    "plt.plot(historial.history[\"loss\"]) # grafica el historial de perdida"
   ]
  },
  {
   "cell_type": "code",
   "execution_count": 20,
   "metadata": {},
   "outputs": [
    {
     "name": "stdout",
     "output_type": "stream",
     "text": [
      "Predicciones\n",
      "\u001b[1m1/1\u001b[0m \u001b[32m━━━━━━━━━━━━━━━━━━━━\u001b[0m\u001b[37m\u001b[0m \u001b[1m0s\u001b[0m 99ms/step\n",
      "El resultado es 143.40553 fahrenheit\n"
     ]
    },
    {
     "data": {
      "text/plain": [
       "'import math\\nprint(\"Predicciones\")\\ninput_data = np.array([[62.0]])  # convierte la entrada a un arreglo de NumPy de 2 dimensiones\\nresultado = modelo.predict(input_data)  # predice el valor de fahrenheit para 100 celsius\\n\\n# Redondeo forzado\\ndecimal_part = resultado[0][0] % 1\\nif decimal_part < 0.5:\\n    resultado_redondeado = math.floor(resultado[0][0])\\nelse:\\n    resultado_redondeado = math.ceil(resultado[0][0])\\n\\nprint(\"El resultado es \" + str(resultado_redondeado) + \" fahrenheit\")  # imprime el resultado redondeado'"
      ]
     },
     "execution_count": 20,
     "metadata": {},
     "output_type": "execute_result"
    }
   ],
   "source": [
    "# Predicciones solo sirve en colab\n",
    "\"\"\"print(\"Predicciones\") \n",
    "resultado = modelo.predict([100.0]) # predice el valor de fahrenheit para 100 celsius\n",
    "print(\"El resultado es \" + str(resultado) + \" fahrenheit\") # imprime el resultado\"\"\"\n",
    "\n",
    "# Predicciones en visual code\n",
    "print(\"Predicciones\")\n",
    "input_data = np.array([[62.0]])  # convierte la entrada a un arreglo de NumPy de 2 dimensiones\n",
    "resultado = modelo.predict(input_data)  # predice el valor de fahrenheit para 100 celsius\n",
    "print(\"El resultado es \" + str(resultado[0][0]) + \" fahrenheit\")  # imprime el resultado\n",
    "\n",
    "# Redondeo forzado\n",
    "\n",
    "\"\"\"import math\n",
    "print(\"Predicciones\")\n",
    "input_data = np.array([[62.0]])  # convierte la entrada a un arreglo de NumPy de 2 dimensiones\n",
    "resultado = modelo.predict(input_data)  # predice el valor de fahrenheit para 100 celsius\n",
    "\n",
    "# Redondeo forzado\n",
    "decimal_part = resultado[0][0] % 1\n",
    "if decimal_part < 0.5:\n",
    "    resultado_redondeado = math.floor(resultado[0][0])\n",
    "else:\n",
    "    resultado_redondeado = math.ceil(resultado[0][0])\n",
    "\n",
    "print(\"El resultado es \" + str(resultado_redondeado) + \" fahrenheit\")  # imprime el resultado redondeado\"\"\""
   ]
  }
 ],
 "metadata": {
  "kernelspec": {
   "display_name": "Python 3",
   "language": "python",
   "name": "python3"
  },
  "language_info": {
   "codemirror_mode": {
    "name": "ipython",
    "version": 3
   },
   "file_extension": ".py",
   "mimetype": "text/x-python",
   "name": "python",
   "nbconvert_exporter": "python",
   "pygments_lexer": "ipython3",
   "version": "3.12.4"
  }
 },
 "nbformat": 4,
 "nbformat_minor": 2
}
